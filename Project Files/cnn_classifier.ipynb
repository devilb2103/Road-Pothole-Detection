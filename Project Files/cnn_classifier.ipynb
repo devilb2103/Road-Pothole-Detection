{
 "cells": [
  {
   "cell_type": "code",
   "execution_count": 40,
   "metadata": {},
   "outputs": [],
   "source": [
    "from keras.models import Sequential\n",
    "\n",
    "import tensorflow as tf\n",
    "\n",
    "# tf.enable_eager_execution()\n",
    "\n",
    "from tensorflow.keras.layers import Dense, Activation, Dropout, Flatten\n",
    "from tensorflow.keras.layers import Convolution2D, MaxPooling2D\n",
    "from tensorflow.keras.optimizers import SGD, RMSprop, Adam\n",
    "from tensorflow.keras.utils import to_categorical\n",
    "from sklearn.tree import DecisionTreeClassifier # Import Decision Tree Classifier\n",
    "from sklearn import metrics\n",
    "from sklearn.utils import shuffle\n",
    "from sklearn.model_selection import train_test_split\n",
    "import matplotlib.image as mpimg\n",
    "import matplotlib.pyplot as plt\n",
    "import numpy as np\n",
    "import os\n",
    "import cv2\n",
    "import random\n",
    "from numpy import *\n",
    "from PIL import Image\n",
    "# import theano"
   ]
  },
  {
   "cell_type": "code",
   "execution_count": 41,
   "metadata": {},
   "outputs": [],
   "source": [
    "path_test = \"../Dataset/Resized_Images_256\"\n",
    "\n",
    "CATEGORIES = [\"Plain\", \"Pothole\"]\n",
    "IMG_SIZE = 256"
   ]
  },
  {
   "cell_type": "code",
   "execution_count": 42,
   "metadata": {},
   "outputs": [],
   "source": [
    "training = []\n",
    "def createTrainingData():\n",
    "    for category in CATEGORIES:\n",
    "        path = os.path.join(path_test, category)\n",
    "        class_num = CATEGORIES.index(category)\n",
    "        for img in os.listdir(path):\n",
    "            img_array = cv2.imread(os.path.join(path,img))\n",
    "            new_array = cv2.resize(img_array, (IMG_SIZE, IMG_SIZE))\n",
    "            training.append([new_array, class_num])\n",
    "createTrainingData()"
   ]
  },
  {
   "cell_type": "code",
   "execution_count": 43,
   "metadata": {},
   "outputs": [],
   "source": [
    "random.shuffle(training)"
   ]
  },
  {
   "cell_type": "code",
   "execution_count": 44,
   "metadata": {},
   "outputs": [],
   "source": [
    "X =[]\n",
    "y =[]\n",
    "for features, label in training:\n",
    "    X.append(features)\n",
    "    y.append(label)\n",
    "X = np.array(X).reshape(-1, IMG_SIZE, IMG_SIZE, 3)"
   ]
  },
  {
   "cell_type": "code",
   "execution_count": 45,
   "metadata": {},
   "outputs": [
    {
     "name": "stdout",
     "output_type": "stream",
     "text": [
      "[0. 1. 0. 0.]\n",
      "(723, 4)\n"
     ]
    }
   ],
   "source": [
    "X = X.astype('float32')\n",
    "X /= 255\n",
    "Y = to_categorical(y, 4)\n",
    "print(Y[100])\n",
    "print(shape(Y))"
   ]
  },
  {
   "cell_type": "code",
   "execution_count": 47,
   "metadata": {},
   "outputs": [],
   "source": [
    "X_train, X_test, y_train, y_test = train_test_split(X, y, test_size = 0.2, random_state = 4)"
   ]
  },
  {
   "cell_type": "code",
   "execution_count": 49,
   "metadata": {},
   "outputs": [],
   "source": [
    "X_train = np.array(X_train)\n",
    "X_test = np.array(X_test)"
   ]
  },
  {
   "cell_type": "code",
   "execution_count": 51,
   "metadata": {},
   "outputs": [],
   "source": [
    "y_train = np.array(y_train)\n",
    "y_test = np.array(y_test)"
   ]
  },
  {
   "cell_type": "code",
   "execution_count": 56,
   "metadata": {},
   "outputs": [
    {
     "name": "stdout",
     "output_type": "stream",
     "text": [
      "Epoch 1/12\n",
      "37/37 [==============================] - 9s 246ms/step - loss: 2.3258 - accuracy: 0.5952 - val_loss: 0.4766 - val_accuracy: 0.7724\n",
      "Epoch 2/12\n",
      "37/37 [==============================] - 9s 238ms/step - loss: 0.3829 - accuracy: 0.8374 - val_loss: 0.4886 - val_accuracy: 0.7448\n",
      "Epoch 3/12\n",
      "37/37 [==============================] - 9s 241ms/step - loss: 0.3138 - accuracy: 0.8806 - val_loss: 0.4141 - val_accuracy: 0.8000\n",
      "Epoch 4/12\n",
      "37/37 [==============================] - 11s 286ms/step - loss: 0.2228 - accuracy: 0.9187 - val_loss: 0.3297 - val_accuracy: 0.8828\n",
      "Epoch 5/12\n",
      "37/37 [==============================] - 11s 288ms/step - loss: 0.1542 - accuracy: 0.9394 - val_loss: 0.3484 - val_accuracy: 0.8759\n",
      "Epoch 6/12\n",
      "37/37 [==============================] - 11s 288ms/step - loss: 0.1057 - accuracy: 0.9550 - val_loss: 0.4650 - val_accuracy: 0.8276\n",
      "Epoch 7/12\n",
      "37/37 [==============================] - 11s 297ms/step - loss: 0.0545 - accuracy: 0.9792 - val_loss: 0.3126 - val_accuracy: 0.8966\n",
      "Epoch 8/12\n",
      "37/37 [==============================] - 11s 302ms/step - loss: 0.0336 - accuracy: 0.9913 - val_loss: 0.7350 - val_accuracy: 0.7862\n",
      "Epoch 9/12\n",
      "37/37 [==============================] - 11s 302ms/step - loss: 0.0220 - accuracy: 0.9948 - val_loss: 0.3605 - val_accuracy: 0.8828\n",
      "Epoch 10/12\n",
      "37/37 [==============================] - 11s 300ms/step - loss: 0.0474 - accuracy: 0.9827 - val_loss: 0.3980 - val_accuracy: 0.8828\n",
      "Epoch 11/12\n",
      "37/37 [==============================] - 11s 301ms/step - loss: 0.0618 - accuracy: 0.9844 - val_loss: 0.3422 - val_accuracy: 0.8759\n",
      "Epoch 12/12\n",
      "37/37 [==============================] - 11s 302ms/step - loss: 0.0295 - accuracy: 0.9896 - val_loss: 0.4170 - val_accuracy: 0.8966\n"
     ]
    },
    {
     "data": {
      "text/plain": [
       "<keras.src.callbacks.History at 0x1ca077c0350>"
      ]
     },
     "execution_count": 56,
     "metadata": {},
     "output_type": "execute_result"
    }
   ],
   "source": [
    "batch_size = 16\n",
    "nb_classes =4\n",
    "nb_epochs = 12\n",
    "img_rows, img_columns = 256, 256\n",
    "img_channel = 3\n",
    "nb_filters = 32\n",
    "nb_pool = 2\n",
    "nb_conv = 3\n",
    "\n",
    "model = tf.keras.Sequential([\n",
    "    tf.keras.layers.Conv2D(32, (3,3), padding='same', activation=tf.nn.relu,\n",
    "                           input_shape=(256, 256, 3)),\n",
    "    tf.keras.layers.MaxPooling2D((2, 2), strides=2),\n",
    "    tf.keras.layers.Conv2D(32, (3,3), padding='same', activation=tf.nn.relu),\n",
    "    tf.keras.layers.MaxPooling2D((2, 2), strides=2),\n",
    "    tf.keras.layers.Dropout(0.5),\n",
    "    tf.keras.layers.Flatten(),\n",
    "    tf.keras.layers.Dense(128, activation=tf.nn.relu),\n",
    "    tf.keras.layers.Dense(4,  activation=tf.nn.softmax)\n",
    "])\n",
    "model.compile(optimizer='adam',loss='sparse_categorical_crossentropy',metrics=['accuracy'])\n",
    "model.fit(X_train, y_train, batch_size = batch_size, epochs = nb_epochs, verbose = 1, validation_data = (X_test, y_test))"
   ]
  },
  {
   "cell_type": "code",
   "execution_count": 55,
   "metadata": {},
   "outputs": [
    {
     "name": "stdout",
     "output_type": "stream",
     "text": [
      "Test Score:  0.9191942811012268\n",
      "Test accuracy:  0.7310344576835632\n"
     ]
    }
   ],
   "source": [
    "score = model.evaluate(X_test, y_test, verbose = 0 )\n",
    "print(\"Test Score: \", score[0])\n",
    "print(\"Test accuracy: \", score[1])"
   ]
  }
 ],
 "metadata": {
  "kernelspec": {
   "display_name": "Python 3",
   "language": "python",
   "name": "python3"
  },
  "language_info": {
   "codemirror_mode": {
    "name": "ipython",
    "version": 3
   },
   "file_extension": ".py",
   "mimetype": "text/x-python",
   "name": "python",
   "nbconvert_exporter": "python",
   "pygments_lexer": "ipython3",
   "version": "3.11.5"
  }
 },
 "nbformat": 4,
 "nbformat_minor": 2
}
